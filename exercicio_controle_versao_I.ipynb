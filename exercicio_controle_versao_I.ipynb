{
  "cells": [
    {
      "cell_type": "markdown",
      "metadata": {
        "id": "KJqp9AANOCtf"
      },
      "source": [
        "<img src=\"https://raw.githubusercontent.com/andre-marcos-perez/ebac-course-utils/main/media/logo/newebac_logo_black_half.png\" alt=\"ebac-logo\">\n",
        "\n",
        "---\n",
        "\n",
        "# **Módulo** | Análise de Dados: Controle de Versão I\n",
        "Caderno de **Exercícios**<br>\n",
        "Professor [André Perez](https://www.linkedin.com/in/andremarcosperez/)\n",
        "\n",
        "---"
      ]
    },
    {
      "cell_type": "markdown",
      "metadata": {
        "id": "d9jDtUbDOE1-"
      },
      "source": [
        "# **Tópicos**\n",
        "\n",
        "<ol type=\"1\">\n",
        "  <li>Introdução ao Git;</li>\n",
        "  <li>Introdução ao GitHub;</li>\n",
        "  <li>Criando um repositório no GitHub.</li>\n",
        "</ol>"
      ]
    },
    {
      "cell_type": "markdown",
      "metadata": {
        "id": "SmoHgt-lwkpD"
      },
      "source": [
        "---"
      ]
    },
    {
      "cell_type": "markdown",
      "metadata": {
        "id": "GABI6OW8OfQ2"
      },
      "source": [
        "# **Exercícios**"
      ]
    },
    {
      "cell_type": "markdown",
      "metadata": {
        "id": "GWgNoJN8DHyY"
      },
      "source": [
        "## 1\\. Git"
      ]
    },
    {
      "cell_type": "markdown",
      "metadata": {
        "id": "fLGLUjR_bS36"
      },
      "source": [
        "O [git](https://git-scm.com/) é um software de controle de versão distribuído de **arquivos**. Nos exercícios desta aula, voce pode utiliza-lo tanto na máquina virtual do Google Colab quanto na sua máquina local."
      ]
    },
    {
      "cell_type": "markdown",
      "metadata": {
        "id": "b38h7VzCazcD"
      },
      "source": [
        "### **1.1. Google Colab**"
      ]
    },
    {
      "cell_type": "markdown",
      "metadata": {
        "id": "8IqWwI7KSCf7"
      },
      "source": [
        "Nas máquinas virtuais do Google Colab o `git` já vem instalado."
      ]
    },
    {
      "cell_type": "code",
      "execution_count": 1,
      "metadata": {
        "id": "6W4RyDfJ6DzI",
        "colab": {
          "base_uri": "https://localhost:8080/"
        },
        "outputId": "3726a565-ff4a-47e9-b7db-0d22c193ea05"
      },
      "outputs": [
        {
          "output_type": "stream",
          "name": "stdout",
          "text": [
            "git version 2.34.1\n"
          ]
        }
      ],
      "source": [
        "!git --version"
      ]
    },
    {
      "cell_type": "markdown",
      "metadata": {
        "id": "C5hnW9-Oa5cI"
      },
      "source": [
        "### **1.2. Máquina Local**"
      ]
    },
    {
      "cell_type": "markdown",
      "metadata": {
        "id": "OUWoDjwNbAqm"
      },
      "source": [
        "Em muitos sistemas opeacionais, o `git` já vem pré instalado, utilize o comando abaixo na linha de comando do seu computador (`terminal` no Linux e MacOS ou `cmd` no Windows) para verificar a instalação."
      ]
    },
    {
      "cell_type": "markdown",
      "metadata": {
        "id": "3OMQLHU8eaBH"
      },
      "source": [
        "```shell\n",
        "git --version\n",
        "```"
      ]
    },
    {
      "cell_type": "markdown",
      "metadata": {
        "id": "kwrM3OmheGlJ"
      },
      "source": [
        "Se o `git` não estiver instalado na sua maquina, voce pode encontrar instruções de instalação para Linux/MacOS/Windows neste [link](https://www.atlassian.com/br/git/tutorials/install-git). Após seguir as instruções, você pode verificar a instalação com o mesmo comando."
      ]
    },
    {
      "cell_type": "markdown",
      "metadata": {
        "id": "WlIh0A04fCuV"
      },
      "source": [
        "```shell\n",
        "git --version\n",
        "```"
      ]
    },
    {
      "cell_type": "markdown",
      "metadata": {
        "id": "waxn4B2UDHyl"
      },
      "source": [
        "---"
      ]
    },
    {
      "cell_type": "markdown",
      "metadata": {
        "id": "finLQoyyGVmk"
      },
      "source": [
        "## 2\\. GitHub"
      ]
    },
    {
      "cell_type": "markdown",
      "metadata": {
        "id": "74xkkESnbVbU"
      },
      "source": [
        "O GitHub é uma ferramenta online de controle de versão distribuído de **arquivos**."
      ]
    },
    {
      "cell_type": "markdown",
      "metadata": {
        "id": "gqI0kEa0ba0N"
      },
      "source": [
        "### **2.1. Criando a uma conta**"
      ]
    },
    {
      "cell_type": "markdown",
      "metadata": {
        "id": "a7kDE5Peba0P"
      },
      "source": [
        "Para criar a uma conta na ferramenta, basta acessar este [link](https://github.com), clicar em *sign up* e seguir as instruções."
      ]
    },
    {
      "cell_type": "markdown",
      "metadata": {
        "id": "9qAr4d94ba0Q"
      },
      "source": [
        "### **2.2. Criando um projeto**"
      ]
    },
    {
      "cell_type": "markdown",
      "metadata": {
        "id": "MCveeK5bba0R"
      },
      "source": [
        "Nesta etapa vamos configurar o `git` na máquina virtual do Google Colab ou na sua máquina local, as instruções são as mesmas. Para tanto, replique as atividades expostas na aula 3 deste módulo."
      ]
    },
    {
      "cell_type": "markdown",
      "metadata": {
        "id": "jr3IIt4SwhTA"
      },
      "source": [
        " > Conta"
      ]
    },
    {
      "cell_type": "markdown",
      "metadata": {
        "id": "7oYCV4YhmpxE"
      },
      "source": [
        " - Criar uma conta no GitHub."
      ]
    },
    {
      "cell_type": "markdown",
      "metadata": {
        "id": "xO8Vn51royvj"
      },
      "source": [
        " - Criar um *personal access token*."
      ]
    },
    {
      "cell_type": "markdown",
      "metadata": {
        "id": "ZU0uaRebm7oY"
      },
      "source": [
        " - Configurar a conexão entre o `git` local com o `git` remoto (GitHub):"
      ]
    },
    {
      "cell_type": "code",
      "execution_count": 2,
      "metadata": {
        "id": "2KZ8VecqnUzx"
      },
      "outputs": [],
      "source": [
        "import os\n",
        "\n",
        "username = \"<Coluno>\" # insira o seu nome de usuário do git\n",
        "os.environ[\"GITHUB_USER\"] = username\n",
        "\n",
        "!git config --global user.name \"${GITHUB_USER}\""
      ]
    },
    {
      "cell_type": "code",
      "execution_count": 3,
      "metadata": {
        "id": "tpRJcz0hoBtK",
        "colab": {
          "base_uri": "https://localhost:8080/"
        },
        "outputId": "c060d1d1-36b8-4255-c688-70e34a3ee62c"
      },
      "outputs": [
        {
          "name": "stdout",
          "output_type": "stream",
          "text": [
            "··········\n"
          ]
        }
      ],
      "source": [
        "import os\n",
        "from getpass import getpass\n",
        "\n",
        "usermail = getpass()\n",
        "os.environ[\"GITHUB_MAIL\"] = usermail\n",
        "\n",
        "!git config --global user.email \"${GITHUB_MAIL}\""
      ]
    },
    {
      "cell_type": "code",
      "execution_count": 4,
      "metadata": {
        "id": "YeUSaO14veHV",
        "colab": {
          "base_uri": "https://localhost:8080/"
        },
        "outputId": "d4b85bb6-a177-418d-9835-2f99d4cd5264"
      },
      "outputs": [
        {
          "name": "stdout",
          "output_type": "stream",
          "text": [
            "··········\n"
          ]
        }
      ],
      "source": [
        "import os\n",
        "from getpass import getpass\n",
        "\n",
        "usertoken = getpass()\n",
        "os.environ[\"GITHUB_TOKEN\"] = usertoken"
      ]
    },
    {
      "cell_type": "markdown",
      "metadata": {
        "id": "U7DbyCuawlEV"
      },
      "source": [
        " > Projeto"
      ]
    },
    {
      "cell_type": "markdown",
      "metadata": {
        "id": "P5J3RdYRra26"
      },
      "source": [
        " - Criar o projeto **remoto**."
      ]
    },
    {
      "cell_type": "markdown",
      "metadata": {
        "id": "IxLfmGQnmfL8"
      },
      "source": [
        " - Fazer o download do projeto **remoto** na máquina **local**, não se esqueça de alterar o link com as informações de usuário e senha."
      ]
    },
    {
      "cell_type": "code",
      "execution_count": 9,
      "metadata": {
        "id": "sp_iiZY7NpTS",
        "colab": {
          "base_uri": "https://localhost:8080/"
        },
        "outputId": "2dff6160-4313-4c52-8217-ccdc10d501a5"
      },
      "outputs": [
        {
          "output_type": "stream",
          "name": "stdout",
          "text": [
            "Cloning into 'da_ebac'...\n",
            "remote: Enumerating objects: 5, done.\u001b[K\n",
            "remote: Counting objects: 100% (5/5), done.\u001b[K\n",
            "remote: Compressing objects: 100% (4/4), done.\u001b[K\n",
            "remote: Total 5 (delta 0), reused 0 (delta 0), pack-reused 0\u001b[K\n",
            "Receiving objects: 100% (5/5), done.\n"
          ]
        }
      ],
      "source": [
        "!git clone https://github.com/Coluno/da_ebac # insira o link do seu repositório remoto"
      ]
    },
    {
      "cell_type": "code",
      "execution_count": 10,
      "metadata": {
        "id": "sVw8rgrEsSl7",
        "colab": {
          "base_uri": "https://localhost:8080/"
        },
        "outputId": "5d001be8-85ce-4976-d42f-d86be3565396"
      },
      "outputs": [
        {
          "output_type": "stream",
          "name": "stdout",
          "text": [
            "/content/da_ebac\n"
          ]
        }
      ],
      "source": [
        "%cd /content/da_ebac/"
      ]
    },
    {
      "cell_type": "markdown",
      "metadata": {
        "id": "Hhwqi1lgo98u"
      },
      "source": [
        " - Criar um arquivo **hello.py** e salvar as aterações no repositório **local**."
      ]
    },
    {
      "cell_type": "code",
      "execution_count": 11,
      "metadata": {
        "id": "PX29_aXZpbv4",
        "colab": {
          "base_uri": "https://localhost:8080/"
        },
        "outputId": "01c3dbd4-80e1-4c12-99cf-a6678dc1a3c6"
      },
      "outputs": [
        {
          "output_type": "stream",
          "name": "stdout",
          "text": [
            "On branch main\n",
            "Your branch is up to date with 'origin/main'.\n",
            "\n",
            "Untracked files:\n",
            "  (use \"git add <file>...\" to include in what will be committed)\n",
            "\t\u001b[31mhello.py\u001b[m\n",
            "\n",
            "nothing added to commit but untracked files present (use \"git add\" to track)\n"
          ]
        }
      ],
      "source": [
        "!touch hello.py\n",
        "!git status"
      ]
    },
    {
      "cell_type": "code",
      "execution_count": 12,
      "metadata": {
        "id": "llYrydvipu23",
        "colab": {
          "base_uri": "https://localhost:8080/"
        },
        "outputId": "5882d70d-6fbd-48a7-d690-61cf42344ecf"
      },
      "outputs": [
        {
          "output_type": "stream",
          "name": "stdout",
          "text": [
            "On branch main\n",
            "Your branch is up to date with 'origin/main'.\n",
            "\n",
            "Changes to be committed:\n",
            "  (use \"git restore --staged <file>...\" to unstage)\n",
            "\t\u001b[32mnew file:   hello.py\u001b[m\n",
            "\n"
          ]
        }
      ],
      "source": [
        "!git add hello.py\n",
        "!git status"
      ]
    },
    {
      "cell_type": "code",
      "execution_count": 13,
      "metadata": {
        "id": "QIhx_FE_pyC-",
        "colab": {
          "base_uri": "https://localhost:8080/"
        },
        "outputId": "a786c164-eeec-404c-be7b-973b23dee010"
      },
      "outputs": [
        {
          "output_type": "stream",
          "name": "stdout",
          "text": [
            "[main 2a4dbac] arquivo hello.py criado\n",
            " 1 file changed, 0 insertions(+), 0 deletions(-)\n",
            " create mode 100644 hello.py\n",
            "On branch main\n",
            "Your branch is ahead of 'origin/main' by 1 commit.\n",
            "  (use \"git push\" to publish your local commits)\n",
            "\n",
            "nothing to commit, working tree clean\n"
          ]
        }
      ],
      "source": [
        "!git commit -m \"arquivo hello.py criado\"\n",
        "!git status"
      ]
    },
    {
      "cell_type": "markdown",
      "metadata": {
        "id": "BdkYI4jKpOIK"
      },
      "source": [
        " - Enviar as alterações para o repositório **remoto**."
      ]
    },
    {
      "cell_type": "code",
      "execution_count": 14,
      "metadata": {
        "id": "Y9Gw7ptPpUlb",
        "colab": {
          "base_uri": "https://localhost:8080/"
        },
        "outputId": "37b75eb0-f13f-4296-c286-bef06c1532b6"
      },
      "outputs": [
        {
          "output_type": "stream",
          "name": "stdout",
          "text": [
            "fatal: could not read Username for 'https://github.com': No such device or address\n",
            "On branch main\n",
            "Your branch is ahead of 'origin/main' by 1 commit.\n",
            "  (use \"git push\" to publish your local commits)\n",
            "\n",
            "nothing to commit, working tree clean\n"
          ]
        }
      ],
      "source": [
        "!git push origin main\n",
        "!git status"
      ]
    },
    {
      "cell_type": "markdown",
      "metadata": {
        "id": "LdakWXS7jEWG"
      },
      "source": [
        " - Confira o arquivo no seu repositório."
      ]
    },
    {
      "cell_type": "markdown",
      "metadata": {
        "id": "As3enQc2GVm1"
      },
      "source": [
        "---"
      ]
    }
  ],
  "metadata": {
    "colab": {
      "provenance": []
    },
    "kernelspec": {
      "display_name": "Python 3",
      "name": "python3"
    },
    "language_info": {
      "codemirror_mode": {
        "name": "ipython",
        "version": 3
      },
      "file_extension": ".py",
      "mimetype": "text/x-python",
      "name": "python",
      "nbconvert_exporter": "python",
      "pygments_lexer": "ipython3",
      "version": "3.12.0"
    }
  },
  "nbformat": 4,
  "nbformat_minor": 0
}